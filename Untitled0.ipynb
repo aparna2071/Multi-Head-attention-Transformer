{
  "nbformat": 4,
  "nbformat_minor": 0,
  "metadata": {
    "colab": {
      "provenance": [],
      "authorship_tag": "ABX9TyPaWSH3BhfzgfV+W0t5/CZ0",
      "include_colab_link": true
    },
    "kernelspec": {
      "name": "python3",
      "display_name": "Python 3"
    },
    "language_info": {
      "name": "python"
    }
  },
  "cells": [
    {
      "cell_type": "markdown",
      "metadata": {
        "id": "view-in-github",
        "colab_type": "text"
      },
      "source": [
        "<a href=\"https://colab.research.google.com/github/aparna2071/Multi-Head-attention-Transformer/blob/main/Untitled0.ipynb\" target=\"_parent\"><img src=\"https://colab.research.google.com/assets/colab-badge.svg\" alt=\"Open In Colab\"/></a>"
      ]
    },
    {
      "cell_type": "code",
      "execution_count": 26,
      "metadata": {
        "id": "0EkWyBohVBS_"
      },
      "outputs": [],
      "source": [
        "import numpy as np\n",
        "import torch\n",
        "import torch.nn as nn\n",
        "import torch.nn.functional as F\n",
        "import math"
      ]
    },
    {
      "cell_type": "code",
      "source": [
        "sequence_length=4\n",
        "batch_size=1\n",
        "input_dim=512\n",
        "d_model=512 #output\n",
        "x=torch.randn((batch_size, sequence_length, input_dim)) #this x is output of input embedding(taken randomly here) & input to multi-head attention\n",
        "x"
      ],
      "metadata": {
        "colab": {
          "base_uri": "https://localhost:8080/"
        },
        "id": "5gZ0KmH87fLl",
        "outputId": "a2469d76-964f-4de7-b1cf-dfb97768f6c0"
      },
      "execution_count": 8,
      "outputs": [
        {
          "output_type": "execute_result",
          "data": {
            "text/plain": [
              "tensor([[[ 0.0128,  0.4288,  0.0542,  ..., -0.7809, -0.4160,  0.3603],\n",
              "         [-1.4683,  1.1440,  1.5004,  ...,  0.0365, -0.2236, -1.1852],\n",
              "         [ 0.1711,  1.0370, -0.6467,  ..., -0.3062, -0.9575,  0.3916],\n",
              "         [-0.2961,  0.3737,  0.5139,  ..., -0.6042, -0.3985, -1.3202]]])"
            ]
          },
          "metadata": {},
          "execution_count": 8
        }
      ]
    },
    {
      "cell_type": "code",
      "source": [
        "x.size()"
      ],
      "metadata": {
        "colab": {
          "base_uri": "https://localhost:8080/"
        },
        "id": "miFYpsRE96PT",
        "outputId": "b8fd7392-e25a-4ee4-c902-7f7a1be1011f"
      },
      "execution_count": 9,
      "outputs": [
        {
          "output_type": "execute_result",
          "data": {
            "text/plain": [
              "torch.Size([1, 4, 512])"
            ]
          },
          "metadata": {},
          "execution_count": 9
        }
      ]
    },
    {
      "cell_type": "code",
      "source": [
        "qkv_layer=nn.Linear(input_dim, 3*d_model)\n",
        "qkv_layer"
      ],
      "metadata": {
        "colab": {
          "base_uri": "https://localhost:8080/"
        },
        "id": "c1OCG4lG-Pwo",
        "outputId": "c3f219dd-e6c3-4191-ed82-bca976e371f8"
      },
      "execution_count": 18,
      "outputs": [
        {
          "output_type": "execute_result",
          "data": {
            "text/plain": [
              "Linear(in_features=512, out_features=1536, bias=True)"
            ]
          },
          "metadata": {},
          "execution_count": 18
        }
      ]
    },
    {
      "cell_type": "code",
      "source": [
        "qkv=qkv_layer(x)\n",
        "qkv"
      ],
      "metadata": {
        "colab": {
          "base_uri": "https://localhost:8080/"
        },
        "id": "dMZ3uC2d-lf_",
        "outputId": "f13d317f-b90f-4297-e2b3-7b28a4e1fb82"
      },
      "execution_count": 17,
      "outputs": [
        {
          "output_type": "execute_result",
          "data": {
            "text/plain": [
              "tensor([[[-0.0266, -0.5309, -0.2267,  ...,  0.2463,  0.7386, -0.5923],\n",
              "         [ 0.0084,  0.5131,  0.0830,  ..., -0.7552,  0.0582, -1.1008],\n",
              "         [ 0.2297, -0.0232, -0.3119,  ...,  0.7673,  0.3225, -0.1033],\n",
              "         [ 0.3481, -0.0198,  0.0251,  ..., -0.0381,  0.8664,  0.1970]]],\n",
              "       grad_fn=<ViewBackward0>)"
            ]
          },
          "metadata": {},
          "execution_count": 17
        }
      ]
    },
    {
      "cell_type": "code",
      "source": [
        "import matplotlib.pyplot as plt\n",
        "y_val=torch.histc(qkv, bins=200, min=-3, max=3)\n",
        "x_val=np.arange(-1, 1, 0.01) *3  #start stop step\n",
        "plt.bar(x_val, y_val, align='center', color=['blue'])\n",
        "plt.title('QKV distribution')"
      ],
      "metadata": {
        "colab": {
          "base_uri": "https://localhost:8080/",
          "height": 469
        },
        "id": "1TuOKRqeCbkX",
        "outputId": "b69b5518-d003-43f2-8fc5-3b68347df00b"
      },
      "execution_count": 20,
      "outputs": [
        {
          "output_type": "execute_result",
          "data": {
            "text/plain": [
              "Text(0.5, 1.0, 'QKV distribution')"
            ]
          },
          "metadata": {},
          "execution_count": 20
        },
        {
          "output_type": "display_data",
          "data": {
            "text/plain": [
              "<Figure size 640x480 with 1 Axes>"
            ],
            "image/png": "[encoded data removed]"
          },
          "metadata": {}
        }
      ]
    },
    {
      "cell_type": "code",
      "source": [
        "num_heads=8\n",
        "head_dim=d_model//num_heads\n",
        "qkv=qkv.reshape(batch_size, sequence_length, num_heads, 3*head_dim) #multiplied by 3 as contains all 3 vectors, q,k,v"
      ],
      "metadata": {
        "id": "BCJPoc6iIK9h"
      },
      "execution_count": 22,
      "outputs": []
    },
    {
      "cell_type": "code",
      "source": [
        "qkv.shape"
      ],
      "metadata": {
        "colab": {
          "base_uri": "https://localhost:8080/"
        },
        "id": "dZmZo2wWI5f6",
        "outputId": "eddbd1d6-6b4a-4dd6-8e6d-713eab4470f0"
      },
      "execution_count": 23,
      "outputs": [
        {
          "output_type": "execute_result",
          "data": {
            "text/plain": [
              "torch.Size([1, 4, 8, 192])"
            ]
          },
          "metadata": {},
          "execution_count": 23
        }
      ]
    },
    {
      "cell_type": "code",
      "source": [
        "q,k,v=qkv.chunk(3,dim=-1)\n",
        "q.shape, k.shape, v.shape"
      ],
      "metadata": {
        "colab": {
          "base_uri": "https://localhost:8080/"
        },
        "id": "r19ujn6sPmWZ",
        "outputId": "c6c5ab91-64b1-4faa-8924-e27527e78fb3"
      },
      "execution_count": 24,
      "outputs": [
        {
          "output_type": "execute_result",
          "data": {
            "text/plain": [
              "(torch.Size([1, 4, 8, 64]),\n",
              " torch.Size([1, 4, 8, 64]),\n",
              " torch.Size([1, 4, 8, 64]))"
            ]
          },
          "metadata": {},
          "execution_count": 24
        }
      ]
    },
    {
      "cell_type": "markdown",
      "source": [
        "Self-attention formula for a single head (same softmax formula)\n",
        "\n",
        "new V= self attention. V"
      ],
      "metadata": {
        "id": "LCJI0_oKRocp"
      }
    },
    {
      "cell_type": "code",
      "source": [
        "d_k=q.size()[-1]\n",
        "scaled=torch.matmul(q,k.transpose(-2,-1))/ math.sqrt(d_k)\n",
        "scaled.shape"
      ],
      "metadata": {
        "colab": {
          "base_uri": "https://localhost:8080/"
        },
        "id": "P1XggKRDRxUs",
        "outputId": "ec5969ba-c345-47ee-99f0-0f57db3a335b"
      },
      "execution_count": 27,
      "outputs": [
        {
          "output_type": "execute_result",
          "data": {
            "text/plain": [
              "torch.Size([1, 4, 8, 8])"
            ]
          },
          "metadata": {},
          "execution_count": 27
        }
      ]
    },
    {
      "cell_type": "code",
      "source": [
        "k.T.shape"
      ],
      "metadata": {
        "colab": {
          "base_uri": "https://localhost:8080/"
        },
        "id": "4aaSQTQCwh7f",
        "outputId": "93b98442-282b-44f6-cec5-3aa1bd8edc9a"
      },
      "execution_count": 46,
      "outputs": [
        {
          "output_type": "stream",
          "name": "stderr",
          "text": [
            "<ipython-input-46-879c2705464e>:1: UserWarning: The use of `x.T` on tensors of dimension other than 2 to reverse their shape is deprecated and it will throw an error in a future release. Consider `x.mT` to transpose batches of matrices or `x.permute(*torch.arange(x.ndim - 1, -1, -1))` to reverse the dimensions of a tensor. (Triggered internally at ../aten/src/ATen/native/TensorShape.cpp:3571.)\n",
            "  k.T.shape\n"
          ]
        },
        {
          "output_type": "execute_result",
          "data": {
            "text/plain": [
              "torch.Size([64, 8, 4, 1])"
            ]
          },
          "metadata": {},
          "execution_count": 46
        }
      ]
    },
    {
      "cell_type": "code",
      "source": [
        "y=torch.randn(2,3)\n",
        "\n",
        "torch.transpose(y,0,1)"
      ],
      "metadata": {
        "colab": {
          "base_uri": "https://localhost:8080/"
        },
        "id": "1w-GvplioY1d",
        "outputId": "fd6ee042-ed2d-42d0-d9e6-8260db8c4bc7"
      },
      "execution_count": 47,
      "outputs": [
        {
          "output_type": "execute_result",
          "data": {
            "text/plain": [
              "tensor([[ 0.8663,  0.9635],\n",
              "        [-2.0459,  0.5592],\n",
              "        [-0.1122,  0.2461]])"
            ]
          },
          "metadata": {},
          "execution_count": 47
        }
      ]
    },
    {
      "cell_type": "code",
      "source": [
        "k.transpose(-1, -2) == k.transpose(-2, -1)"
      ],
      "metadata": {
        "colab": {
          "base_uri": "https://localhost:8080/"
        },
        "id": "gcbEDgKdv52D",
        "outputId": "0b28014e-7240-402a-da70-97fbbfcc6e48"
      },
      "execution_count": 48,
      "outputs": [
        {
          "output_type": "execute_result",
          "data": {
            "text/plain": [
              "tensor([[[[True, True, True,  ..., True, True, True],\n",
              "          [True, True, True,  ..., True, True, True],\n",
              "          [True, True, True,  ..., True, True, True],\n",
              "          ...,\n",
              "          [True, True, True,  ..., True, True, True],\n",
              "          [True, True, True,  ..., True, True, True],\n",
              "          [True, True, True,  ..., True, True, True]],\n",
              "\n",
              "         [[True, True, True,  ..., True, True, True],\n",
              "          [True, True, True,  ..., True, True, True],\n",
              "          [True, True, True,  ..., True, True, True],\n",
              "          ...,\n",
              "          [True, True, True,  ..., True, True, True],\n",
              "          [True, True, True,  ..., True, True, True],\n",
              "          [True, True, True,  ..., True, True, True]],\n",
              "\n",
              "         [[True, True, True,  ..., True, True, True],\n",
              "          [True, True, True,  ..., True, True, True],\n",
              "          [True, True, True,  ..., True, True, True],\n",
              "          ...,\n",
              "          [True, True, True,  ..., True, True, True],\n",
              "          [True, True, True,  ..., True, True, True],\n",
              "          [True, True, True,  ..., True, True, True]],\n",
              "\n",
              "         [[True, True, True,  ..., True, True, True],\n",
              "          [True, True, True,  ..., True, True, True],\n",
              "          [True, True, True,  ..., True, True, True],\n",
              "          ...,\n",
              "          [True, True, True,  ..., True, True, True],\n",
              "          [True, True, True,  ..., True, True, True],\n",
              "          [True, True, True,  ..., True, True, True]]]])"
            ]
          },
          "metadata": {},
          "execution_count": 48
        }
      ]
    },
    {
      "cell_type": "code",
      "source": [
        "k.transpose(-1, -2).shape"
      ],
      "metadata": {
        "colab": {
          "base_uri": "https://localhost:8080/"
        },
        "id": "1qyytHITv-9e",
        "outputId": "f37a9df7-3561-44be-98db-5ea6090adb9f"
      },
      "execution_count": 49,
      "outputs": [
        {
          "output_type": "execute_result",
          "data": {
            "text/plain": [
              "torch.Size([1, 4, 64, 8])"
            ]
          },
          "metadata": {},
          "execution_count": 49
        }
      ]
    },
    {
      "cell_type": "code",
      "source": [
        "mask = torch.full(scaled.size() , float('-inf'))\n",
        "mask = torch.triu(mask, diagonal=1)\n",
        "mask[0][1] # mask for input to a single head"
      ],
      "metadata": {
        "colab": {
          "base_uri": "https://localhost:8080/"
        },
        "id": "P7oE6slUtlwi",
        "outputId": "78a83efd-9611-4476-ce50-e22c597858a3"
      },
      "execution_count": 50,
      "outputs": [
        {
          "output_type": "execute_result",
          "data": {
            "text/plain": [
              "tensor([[0., -inf, -inf, -inf, -inf, -inf, -inf, -inf],\n",
              "        [0., 0., -inf, -inf, -inf, -inf, -inf, -inf],\n",
              "        [0., 0., 0., -inf, -inf, -inf, -inf, -inf],\n",
              "        [0., 0., 0., 0., -inf, -inf, -inf, -inf],\n",
              "        [0., 0., 0., 0., 0., -inf, -inf, -inf],\n",
              "        [0., 0., 0., 0., 0., 0., -inf, -inf],\n",
              "        [0., 0., 0., 0., 0., 0., 0., -inf],\n",
              "        [0., 0., 0., 0., 0., 0., 0., 0.]])"
            ]
          },
          "metadata": {},
          "execution_count": 50
        }
      ]
    },
    {
      "cell_type": "code",
      "source": [
        "(scaled + mask)[0][0]\n",
        ""
      ],
      "metadata": {
        "colab": {
          "base_uri": "https://localhost:8080/"
        },
        "id": "vzuhHrEdt-ZF",
        "outputId": "0f42f3b6-8776-4fd3-e64f-7e079ae77a1f"
      },
      "execution_count": 51,
      "outputs": [
        {
          "output_type": "execute_result",
          "data": {
            "text/plain": [
              "tensor([[ 0.1465,    -inf,    -inf,    -inf,    -inf,    -inf,    -inf,    -inf],\n",
              "        [-0.1366,  0.0364,    -inf,    -inf,    -inf,    -inf,    -inf,    -inf],\n",
              "        [ 0.3521,  0.5356,  0.1552,    -inf,    -inf,    -inf,    -inf,    -inf],\n",
              "        [ 0.3391,  0.4820,  0.2595, -0.1284,    -inf,    -inf,    -inf,    -inf],\n",
              "        [ 0.3827, -0.6059, -0.4107,  0.3562,  0.6391,    -inf,    -inf,    -inf],\n",
              "        [ 0.2789,  0.0870,  0.0241,  0.6928,  0.1467, -0.4241,    -inf,    -inf],\n",
              "        [ 0.0320, -0.4663, -0.1516,  0.5119, -0.0081,  0.2372,  0.3632,    -inf],\n",
              "        [-0.0980,  0.0448,  0.2627,  0.0147, -0.4412, -0.2631,  0.5203,  0.2041]],\n",
              "       grad_fn=<SelectBackward0>)"
            ]
          },
          "metadata": {},
          "execution_count": 51
        }
      ]
    },
    {
      "cell_type": "code",
      "source": [
        "scaled += mask"
      ],
      "metadata": {
        "id": "Ktg-9zOPuSJ1"
      },
      "execution_count": 52,
      "outputs": []
    },
    {
      "cell_type": "code",
      "source": [
        "np.exp(0.3521) / (np.exp(0.3521) + np.exp(0.5356)+ np.exp(0.1552))"
      ],
      "metadata": {
        "colab": {
          "base_uri": "https://localhost:8080/"
        },
        "id": "NPwvnI5VufGG",
        "outputId": "4739fc18-e6c4-4f39-fd8b-e0010157c36d"
      },
      "execution_count": 53,
      "outputs": [
        {
          "output_type": "execute_result",
          "data": {
            "text/plain": [
              "0.33083139642803755"
            ]
          },
          "metadata": {},
          "execution_count": 53
        }
      ]
    },
    {
      "cell_type": "code",
      "source": [
        "attention = F.softmax(scaled, dim=-1)"
      ],
      "metadata": {
        "id": "5bRPeFacuy41"
      },
      "execution_count": 56,
      "outputs": []
    },
    {
      "cell_type": "code",
      "source": [
        "attention.shape"
      ],
      "metadata": {
        "colab": {
          "base_uri": "https://localhost:8080/"
        },
        "id": "cHQm9JZQu3N7",
        "outputId": "02431498-509c-46ed-acee-a35ab04cc4a6"
      },
      "execution_count": 57,
      "outputs": [
        {
          "output_type": "execute_result",
          "data": {
            "text/plain": [
              "torch.Size([1, 4, 8, 8])"
            ]
          },
          "metadata": {},
          "execution_count": 57
        }
      ]
    },
    {
      "cell_type": "code",
      "source": [
        "attention[0][0]"
      ],
      "metadata": {
        "colab": {
          "base_uri": "https://localhost:8080/"
        },
        "id": "N-dEP0J0vOKa",
        "outputId": "47122c18-afdc-4ed2-ccaa-fcea61b426cb"
      },
      "execution_count": 58,
      "outputs": [
        {
          "output_type": "execute_result",
          "data": {
            "text/plain": [
              "tensor([[1.0000, 0.0000, 0.0000, 0.0000, 0.0000, 0.0000, 0.0000, 0.0000],\n",
              "        [0.4569, 0.5431, 0.0000, 0.0000, 0.0000, 0.0000, 0.0000, 0.0000],\n",
              "        [0.3308, 0.3975, 0.2717, 0.0000, 0.0000, 0.0000, 0.0000, 0.0000],\n",
              "        [0.2700, 0.3115, 0.2493, 0.1692, 0.0000, 0.0000, 0.0000, 0.0000],\n",
              "        [0.2445, 0.0910, 0.1106, 0.2381, 0.3159, 0.0000, 0.0000, 0.0000],\n",
              "        [0.1823, 0.1505, 0.1413, 0.2758, 0.1598, 0.0903, 0.0000, 0.0000],\n",
              "        [0.1309, 0.0796, 0.1090, 0.2116, 0.1258, 0.1608, 0.1824, 0.0000],\n",
              "        [0.1056, 0.1218, 0.1514, 0.1182, 0.0749, 0.0895, 0.1959, 0.1428]],\n",
              "       grad_fn=<SelectBackward0>)"
            ]
          },
          "metadata": {},
          "execution_count": 58
        }
      ]
    },
    {
      "cell_type": "code",
      "source": [
        "values = torch.matmul(attention, v)\n",
        "values.shape"
      ],
      "metadata": {
        "colab": {
          "base_uri": "https://localhost:8080/"
        },
        "id": "TD9uJ7dVvS4m",
        "outputId": "35395d23-acf6-43a3-9808-3e75b338f253"
      },
      "execution_count": 59,
      "outputs": [
        {
          "output_type": "execute_result",
          "data": {
            "text/plain": [
              "torch.Size([1, 4, 8, 64])"
            ]
          },
          "metadata": {},
          "execution_count": 59
        }
      ]
    },
    {
      "cell_type": "markdown",
      "source": [
        "Class"
      ],
      "metadata": {
        "id": "53Tg-aEyxRrf"
      }
    },
    {
      "cell_type": "code",
      "source": [
        "import torch\n",
        "import torch.nn as nn\n",
        "import math\n",
        "\n",
        "def scaled_dot_product(q, k, v, mask=None):\n",
        "    d_k = q.size()[-1]\n",
        "    scaled = torch.matmul(q, k.transpose(-1, -2)) / math.sqrt(d_k)\n",
        "    if mask is not None:\n",
        "        scaled += mask\n",
        "    attention = F.softmax(scaled, dim=-1)\n",
        "    values = torch.matmul(attention, v)\n",
        "    return values, attention\n",
        "\n",
        "class MultiheadAttention(nn.Module):\n",
        "\n",
        "    def __init__(self, input_dim, d_model, num_heads):\n",
        "        super().__init__()\n",
        "        self.input_dim = input_dim\n",
        "        self.d_model = d_model\n",
        "        self.num_heads = num_heads\n",
        "        self.head_dim = d_model // num_heads\n",
        "        self.qkv_layer = nn.Linear(input_dim , 3 * d_model)\n",
        "        self.linear_layer = nn.Linear(d_model, d_model)\n",
        "\n",
        "    def forward(self, x, mask=None):\n",
        "        batch_size, sequence_length, input_dim = x.size()\n",
        "        print(f\"x.size(): {x.size()}\")\n",
        "        qkv = self.qkv_layer(x)\n",
        "        print(f\"qkv.size(): {qkv.size()}\")\n",
        "        qkv = qkv.reshape(batch_size, sequence_length, self.num_heads, 3 * self.head_dim)\n",
        "        print(f\"qkv.size(): {qkv.size()}\")\n",
        "        qkv = qkv.permute(0, 2, 1, 3)\n",
        "        print(f\"qkv.size(): {qkv.size()}\")\n",
        "        q, k, v = qkv.chunk(3, dim=-1)\n",
        "        print(f\"q size: {q.size()}, k size: {k.size()}, v size: {v.size()}, \")\n",
        "        values, attention = scaled_dot_product(q, k, v, mask)\n",
        "        print(f\"values.size(): {values.size()}, attention.size:{ attention.size()} \")\n",
        "        values = values.reshape(batch_size, sequence_length, self.num_heads * self.head_dim)\n",
        "        print(f\"values.size(): {values.size()}\")\n",
        "        out = self.linear_layer(values)\n",
        "        print(f\"out.size(): {out.size()}\")\n",
        "        return out"
      ],
      "metadata": {
        "id": "M8D8mPQtxSsd"
      },
      "execution_count": 61,
      "outputs": []
    },
    {
      "cell_type": "code",
      "source": [
        "input_dim = 1024\n",
        "d_model = 512\n",
        "num_heads = 8\n",
        "\n",
        "batch_size = 30\n",
        "sequence_length = 5\n",
        "x = torch.randn( (batch_size, sequence_length, input_dim) )\n",
        "\n",
        "model = MultiheadAttention(input_dim, d_model, num_heads)\n",
        "out = model.forward(x)"
      ],
      "metadata": {
        "colab": {
          "base_uri": "https://localhost:8080/"
        },
        "id": "3ia6kzQ7xobf",
        "outputId": "d9a66b90-a7c6-405b-d8c1-819d285b78f0"
      },
      "execution_count": 62,
      "outputs": [
        {
          "output_type": "stream",
          "name": "stdout",
          "text": [
            "x.size(): torch.Size([30, 5, 1024])\n",
            "qkv.size(): torch.Size([30, 5, 1536])\n",
            "qkv.size(): torch.Size([30, 5, 8, 192])\n",
            "qkv.size(): torch.Size([30, 8, 5, 192])\n",
            "q size: torch.Size([30, 8, 5, 64]), k size: torch.Size([30, 8, 5, 64]), v size: torch.Size([30, 8, 5, 64]), \n",
            "values.size(): torch.Size([30, 8, 5, 64]), attention.size:torch.Size([30, 8, 5, 5]) \n",
            "values.size(): torch.Size([30, 5, 512])\n",
            "out.size(): torch.Size([30, 5, 512])\n"
          ]
        }
      ]
    }
  ]
}